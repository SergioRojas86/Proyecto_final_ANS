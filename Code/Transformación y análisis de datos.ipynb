{
 "cells": [
  {
   "cell_type": "markdown",
   "id": "d98704d1",
   "metadata": {},
   "source": [
    "# Análisis  de Datos"
   ]
  },
  {
   "cell_type": "markdown",
   "id": "0c94c8b3",
   "metadata": {},
   "source": [
    "## 1.Descripción de archivo base"
   ]
  },
  {
   "cell_type": "markdown",
   "id": "72ea1da1",
   "metadata": {},
   "source": [
    "Los datos comprenden base de datos con las siguientes columnas, generadas por medio de Google Analytics\n",
    "\n",
    "\n",
    "**1.brandingInterest:** Esta variable muestra  el tipo  de interés que tuvieron los usuarios que se encuentran en etapas avanzadas del proceso de compra. Los usuarios se registran en diferentes categorías según sus intereses. Por ejemplo, “Estilos de vida y hobbies/Amantes de los animales” o “Viajeros/Fans de los viajes/Viajeros de playa”.\n",
    "\n",
    "**2.userAgeBracket:** Esta variable se utiliza para agrupar a los usuarios en categorías o brackets de edad. Los brackets de edad son rangos específicos que abarcan un conjunto de edades similares. Por ejemplo, los brackets podrían ser \"Menores de 18 años\", \"De 18 a 25 años\", \"De 26 a 35 años\" y así sucesivamente. Esta variable ayuda a comprender la distribución de edades de los usuarios en el conjunto de datos.\n",
    "\n",
    "**3.userGender:** Esta variable indica el género o sexo de los usuarios. Puede tomar valores como \"Masculino\", \"Femenino\", \"No binario\" u otras categorías que representen la identidad de género de los usuarios. El propósito de esta variable es analizar la composición de género de la audiencia o realizar análisis específicos relacionados con el género.\n",
    "\n",
    "**4.country:** Esta variable indica el país de origen o ubicación geográfica de los usuarios. Cada valor corresponde a un país específico, como \"Estados Unidos\", \"Canadá\", \"Reino Unido\", etc. El país de origen es útil para realizar análisis geográficos, como la segmentación de usuarios por ubicación geográfica.\n",
    "\n",
    "**5.region:** Muestra la zona geográfica de donde viene el usuario, basándose en su IP.\n",
    "\n",
    "**6.sessions:** Muestra el número de sesiones que superaron los 10 segundos, lograron una conversión o tuvieron 2 o más visitas.\n",
    "\n",
    "Información basada en el sitio de Google Analytics Data API Google Developers (Developers, 2023) donde describen la generación de los datos generados desde Google Analytics.\n"
   ]
  },
  {
   "cell_type": "markdown",
   "id": "ff04e425",
   "metadata": {},
   "source": [
    "## Cargue base de datos"
   ]
  },
  {
   "cell_type": "code",
   "execution_count": 47,
   "id": "016c7070",
   "metadata": {},
   "outputs": [],
   "source": [
    "## librerias utilizadas\n",
    "import pandas as pd \n",
    "import numpy as np \n",
    "import matplotlib.pyplot as plt\n",
    "## Cargar archivo\n",
    "df = pd.read_csv(\"Base consolidada oficial.csv\")"
   ]
  },
  {
   "cell_type": "code",
   "execution_count": 48,
   "id": "14494dfe",
   "metadata": {},
   "outputs": [
    {
     "name": "stdout",
     "output_type": "stream",
     "text": [
      "<class 'pandas.core.frame.DataFrame'>\n",
      "RangeIndex: 5870 entries, 0 to 5869\n",
      "Data columns (total 6 columns):\n",
      " #   Column            Non-Null Count  Dtype \n",
      "---  ------            --------------  ----- \n",
      " 0   brandingInterest  5870 non-null   object\n",
      " 1   userAgeBracket    5870 non-null   object\n",
      " 2   userGender        5870 non-null   object\n",
      " 3   country           5870 non-null   object\n",
      " 4   region            5870 non-null   object\n",
      " 5   sessions          5870 non-null   int64 \n",
      "dtypes: int64(1), object(5)\n",
      "memory usage: 275.3+ KB\n"
     ]
    }
   ],
   "source": [
    "df.info()"
   ]
  },
  {
   "cell_type": "code",
   "execution_count": 49,
   "id": "8681eb06",
   "metadata": {},
   "outputs": [
    {
     "data": {
      "text/html": [
       "<div>\n",
       "<style scoped>\n",
       "    .dataframe tbody tr th:only-of-type {\n",
       "        vertical-align: middle;\n",
       "    }\n",
       "\n",
       "    .dataframe tbody tr th {\n",
       "        vertical-align: top;\n",
       "    }\n",
       "\n",
       "    .dataframe thead th {\n",
       "        text-align: right;\n",
       "    }\n",
       "</style>\n",
       "<table border=\"1\" class=\"dataframe\">\n",
       "  <thead>\n",
       "    <tr style=\"text-align: right;\">\n",
       "      <th></th>\n",
       "      <th>brandingInterest</th>\n",
       "      <th>userAgeBracket</th>\n",
       "      <th>userGender</th>\n",
       "      <th>country</th>\n",
       "      <th>region</th>\n",
       "      <th>sessions</th>\n",
       "    </tr>\n",
       "  </thead>\n",
       "  <tbody>\n",
       "    <tr>\n",
       "      <th>0</th>\n",
       "      <td>News &amp; Politics/Avid News Readers/Entertainmen...</td>\n",
       "      <td>25-34</td>\n",
       "      <td>female</td>\n",
       "      <td>United States</td>\n",
       "      <td>California</td>\n",
       "      <td>107</td>\n",
       "    </tr>\n",
       "    <tr>\n",
       "      <th>1</th>\n",
       "      <td>News &amp; Politics/Avid News Readers/Entertainmen...</td>\n",
       "      <td>35-44</td>\n",
       "      <td>female</td>\n",
       "      <td>United States</td>\n",
       "      <td>California</td>\n",
       "      <td>106</td>\n",
       "    </tr>\n",
       "  </tbody>\n",
       "</table>\n",
       "</div>"
      ],
      "text/plain": [
       "                                    brandingInterest userAgeBracket  \\\n",
       "0  News & Politics/Avid News Readers/Entertainmen...          25-34   \n",
       "1  News & Politics/Avid News Readers/Entertainmen...          35-44   \n",
       "\n",
       "  userGender        country      region  sessions  \n",
       "0     female  United States  California       107  \n",
       "1     female  United States  California       106  "
      ]
     },
     "execution_count": 49,
     "metadata": {},
     "output_type": "execute_result"
    }
   ],
   "source": [
    "df.head(2)"
   ]
  },
  {
   "cell_type": "markdown",
   "id": "14917b81",
   "metadata": {},
   "source": [
    "La columna 'brandingInterest' tiene de forma concatenada y separa con '/' los intereses de las peronas por lo tanto se realiza una transformación de los datos para poder separarlos y mejorar el análisis según los intereses únicos."
   ]
  },
  {
   "cell_type": "markdown",
   "id": "466579da",
   "metadata": {},
   "source": [
    "## Transformación base de datos"
   ]
  },
  {
   "cell_type": "code",
   "execution_count": 51,
   "id": "a319c169",
   "metadata": {},
   "outputs": [],
   "source": [
    "#Copia de la base de datos original\n",
    "df_transformada = df.copy()\n",
    "#Separar por columnas los intereses\n",
    "df_transformada[['int1', 'int2', 'int3', 'int4']] = df_transformada['brandingInterest'].str.split('/', n=3, expand=True)\n",
    "#Contar el nùmero de intereses totales para dividir equitativamente las sesiones\n",
    "df_transformada['N_intreses'] = 4-df_transformada.isna().sum(axis=1)\n",
    "df_transformada['sessions'] = df_transformada['sessions']/df_transformada['N_intreses']"
   ]
  },
  {
   "cell_type": "code",
   "execution_count": 52,
   "id": "b3585c4f",
   "metadata": {},
   "outputs": [],
   "source": [
    "df_transformada2=pd.melt(df_transformada, id_vars=['userAgeBracket','userGender','country','region','sessions'], value_vars=['int1', 'int2','int3', 'int4'])\n",
    "df_transformada2[\"brandingInterest\"] = df_transformada2[\"value\"]\n",
    "df_transformada2 = df_transformada2.drop(columns=['variable'])\n",
    "df_transformada2 = df_transformada2.drop(columns=['value'])"
   ]
  },
  {
   "cell_type": "code",
   "execution_count": 53,
   "id": "5494599e",
   "metadata": {},
   "outputs": [
    {
     "data": {
      "text/html": [
       "<div>\n",
       "<style scoped>\n",
       "    .dataframe tbody tr th:only-of-type {\n",
       "        vertical-align: middle;\n",
       "    }\n",
       "\n",
       "    .dataframe tbody tr th {\n",
       "        vertical-align: top;\n",
       "    }\n",
       "\n",
       "    .dataframe thead th {\n",
       "        text-align: right;\n",
       "    }\n",
       "</style>\n",
       "<table border=\"1\" class=\"dataframe\">\n",
       "  <thead>\n",
       "    <tr style=\"text-align: right;\">\n",
       "      <th></th>\n",
       "      <th>userAgeBracket</th>\n",
       "      <th>userGender</th>\n",
       "      <th>country</th>\n",
       "      <th>region</th>\n",
       "      <th>sessions</th>\n",
       "      <th>brandingInterest</th>\n",
       "    </tr>\n",
       "  </thead>\n",
       "  <tbody>\n",
       "    <tr>\n",
       "      <th>0</th>\n",
       "      <td>25-34</td>\n",
       "      <td>female</td>\n",
       "      <td>United States</td>\n",
       "      <td>California</td>\n",
       "      <td>35.666667</td>\n",
       "      <td>News &amp; Politics</td>\n",
       "    </tr>\n",
       "  </tbody>\n",
       "</table>\n",
       "</div>"
      ],
      "text/plain": [
       "  userAgeBracket userGender        country      region   sessions  \\\n",
       "0          25-34     female  United States  California  35.666667   \n",
       "\n",
       "  brandingInterest  \n",
       "0  News & Politics  "
      ]
     },
     "execution_count": 53,
     "metadata": {},
     "output_type": "execute_result"
    }
   ],
   "source": [
    "df_transformada2.head(1)"
   ]
  },
  {
   "cell_type": "code",
   "execution_count": 54,
   "id": "0fc2f6e8",
   "metadata": {},
   "outputs": [],
   "source": [
    "df = df_transformada2.dropna(subset=['brandingInterest'], axis=0)\n",
    "df.head(1)\n",
    "df.to_csv(\"Base transformada.csv\")"
   ]
  },
  {
   "cell_type": "code",
   "execution_count": 55,
   "id": "f4a9fa86",
   "metadata": {},
   "outputs": [
    {
     "data": {
      "text/html": [
       "<div>\n",
       "<style scoped>\n",
       "    .dataframe tbody tr th:only-of-type {\n",
       "        vertical-align: middle;\n",
       "    }\n",
       "\n",
       "    .dataframe tbody tr th {\n",
       "        vertical-align: top;\n",
       "    }\n",
       "\n",
       "    .dataframe thead th {\n",
       "        text-align: right;\n",
       "    }\n",
       "</style>\n",
       "<table border=\"1\" class=\"dataframe\">\n",
       "  <thead>\n",
       "    <tr style=\"text-align: right;\">\n",
       "      <th></th>\n",
       "      <th>userAgeBracket</th>\n",
       "      <th>userGender</th>\n",
       "      <th>country</th>\n",
       "      <th>region</th>\n",
       "      <th>sessions</th>\n",
       "      <th>brandingInterest</th>\n",
       "    </tr>\n",
       "  </thead>\n",
       "  <tbody>\n",
       "    <tr>\n",
       "      <th>0</th>\n",
       "      <td>25-34</td>\n",
       "      <td>female</td>\n",
       "      <td>United States</td>\n",
       "      <td>California</td>\n",
       "      <td>35.666667</td>\n",
       "      <td>News &amp; Politics</td>\n",
       "    </tr>\n",
       "  </tbody>\n",
       "</table>\n",
       "</div>"
      ],
      "text/plain": [
       "  userAgeBracket userGender        country      region   sessions  \\\n",
       "0          25-34     female  United States  California  35.666667   \n",
       "\n",
       "  brandingInterest  \n",
       "0  News & Politics  "
      ]
     },
     "execution_count": 55,
     "metadata": {},
     "output_type": "execute_result"
    }
   ],
   "source": [
    "## Ver las primeras dos filas de la base de datos\n",
    "df.head(1)"
   ]
  },
  {
   "cell_type": "markdown",
   "id": "75f14f2c",
   "metadata": {},
   "source": [
    "## Análisis base de datos"
   ]
  },
  {
   "cell_type": "code",
   "execution_count": 56,
   "id": "cddf199d",
   "metadata": {},
   "outputs": [
    {
     "name": "stdout",
     "output_type": "stream",
     "text": [
      "<class 'pandas.core.frame.DataFrame'>\n",
      "Int64Index: 14316 entries, 0 to 23356\n",
      "Data columns (total 6 columns):\n",
      " #   Column            Non-Null Count  Dtype  \n",
      "---  ------            --------------  -----  \n",
      " 0   userAgeBracket    14316 non-null  object \n",
      " 1   userGender        14316 non-null  object \n",
      " 2   country           14316 non-null  object \n",
      " 3   region            14316 non-null  object \n",
      " 4   sessions          14316 non-null  float64\n",
      " 5   brandingInterest  14316 non-null  object \n",
      "dtypes: float64(1), object(5)\n",
      "memory usage: 782.9+ KB\n"
     ]
    }
   ],
   "source": [
    "df.info()"
   ]
  },
  {
   "cell_type": "markdown",
   "id": "37d038be",
   "metadata": {},
   "source": [
    "Pasamos de 5870 registros a  14316  registros de la base de datos y no hay ningùn registro de datos vacio."
   ]
  },
  {
   "cell_type": "code",
   "execution_count": 57,
   "id": "8a93ad2d",
   "metadata": {},
   "outputs": [
    {
     "data": {
      "text/plain": [
       "userAgeBracket        7\n",
       "userGender            3\n",
       "country               1\n",
       "region               20\n",
       "sessions            348\n",
       "brandingInterest    116\n",
       "dtype: int64"
      ]
     },
     "execution_count": 57,
     "metadata": {},
     "output_type": "execute_result"
    }
   ],
   "source": [
    "df.nunique()"
   ]
  },
  {
   "cell_type": "markdown",
   "id": "84b920f2",
   "metadata": {},
   "source": [
    "La variable brandingInterest tiene 116 valores unicos, hay 7 grupos etareos comprendidos en la variable userAgeBracket, 3 generos diferenciados en userGender, todos los datos comprenden solo un paìs y 20 regiones. "
   ]
  },
  {
   "cell_type": "code",
   "execution_count": 58,
   "id": "6f395ba8",
   "metadata": {},
   "outputs": [
    {
     "data": {
      "image/png": "[encoded data removed]",
      "text/plain": [
       "<Figure size 800x600 with 1 Axes>"
      ]
     },
     "metadata": {},
     "output_type": "display_data"
    }
   ],
   "source": [
    "# Agrupar y sumar sesiones por branding interest\n",
    "df_grouped = df.groupby('brandingInterest')['sessions'].sum()\n",
    "# Ordenar y seleccionar los primeros 10 valores\n",
    "df_top10 = df_grouped.sort_values(ascending=False).head(10)\n",
    "# Crear la gráfica de barras\n",
    "df_top10.plot.bar(title='Suma de sesiones por branding interest', xlabel='Branding interest', ylabel='Sesiones', figsize=(8,6))\n",
    "plt.show()"
   ]
  },
  {
   "cell_type": "code",
   "execution_count": 59,
   "id": "6fa864a7",
   "metadata": {},
   "outputs": [
    {
     "data": {
      "text/plain": [
       "47.13"
      ]
     },
     "execution_count": 59,
     "metadata": {},
     "output_type": "execute_result"
    }
   ],
   "source": [
    "# Calcular el porcentaje del total\n",
    "df_top10_pct = df_top10.apply(lambda x: x / df_grouped.sum() * 100).round(2)\n",
    "\n",
    "# Mostrar el resultado\n",
    "df_top10_pct.sum()"
   ]
  },
  {
   "cell_type": "code",
   "execution_count": 60,
   "id": "51449bc0",
   "metadata": {},
   "outputs": [
    {
     "data": {
      "text/html": [
       "<div>\n",
       "<style scoped>\n",
       "    .dataframe tbody tr th:only-of-type {\n",
       "        vertical-align: middle;\n",
       "    }\n",
       "\n",
       "    .dataframe tbody tr th {\n",
       "        vertical-align: top;\n",
       "    }\n",
       "\n",
       "    .dataframe thead th {\n",
       "        text-align: right;\n",
       "    }\n",
       "</style>\n",
       "<table border=\"1\" class=\"dataframe\">\n",
       "  <thead>\n",
       "    <tr style=\"text-align: right;\">\n",
       "      <th></th>\n",
       "      <th>userAgeBracket</th>\n",
       "      <th>userGender</th>\n",
       "      <th>country</th>\n",
       "      <th>region</th>\n",
       "      <th>sessions</th>\n",
       "      <th>brandingInterest</th>\n",
       "    </tr>\n",
       "  </thead>\n",
       "  <tbody>\n",
       "    <tr>\n",
       "      <th>0</th>\n",
       "      <td>25-34</td>\n",
       "      <td>female</td>\n",
       "      <td>United States</td>\n",
       "      <td>California</td>\n",
       "      <td>35.666667</td>\n",
       "      <td>News &amp; Politics</td>\n",
       "    </tr>\n",
       "    <tr>\n",
       "      <th>1</th>\n",
       "      <td>35-44</td>\n",
       "      <td>female</td>\n",
       "      <td>United States</td>\n",
       "      <td>California</td>\n",
       "      <td>35.333333</td>\n",
       "      <td>News &amp; Politics</td>\n",
       "    </tr>\n",
       "    <tr>\n",
       "      <th>2</th>\n",
       "      <td>35-44</td>\n",
       "      <td>female</td>\n",
       "      <td>United States</td>\n",
       "      <td>California</td>\n",
       "      <td>49.500000</td>\n",
       "      <td>Media &amp; Entertainment</td>\n",
       "    </tr>\n",
       "    <tr>\n",
       "      <th>3</th>\n",
       "      <td>35-44</td>\n",
       "      <td>female</td>\n",
       "      <td>United States</td>\n",
       "      <td>California</td>\n",
       "      <td>47.500000</td>\n",
       "      <td>Media &amp; Entertainment</td>\n",
       "    </tr>\n",
       "    <tr>\n",
       "      <th>4</th>\n",
       "      <td>35-44</td>\n",
       "      <td>female</td>\n",
       "      <td>United States</td>\n",
       "      <td>California</td>\n",
       "      <td>47.500000</td>\n",
       "      <td>Media &amp; Entertainment</td>\n",
       "    </tr>\n",
       "    <tr>\n",
       "      <th>...</th>\n",
       "      <td>...</td>\n",
       "      <td>...</td>\n",
       "      <td>...</td>\n",
       "      <td>...</td>\n",
       "      <td>...</td>\n",
       "      <td>...</td>\n",
       "    </tr>\n",
       "    <tr>\n",
       "      <th>23113</th>\n",
       "      <td>25-34</td>\n",
       "      <td>male</td>\n",
       "      <td>United States</td>\n",
       "      <td>Illinois</td>\n",
       "      <td>2.750000</td>\n",
       "      <td>Frequently Eats Dinner Out</td>\n",
       "    </tr>\n",
       "    <tr>\n",
       "      <th>23114</th>\n",
       "      <td>55-64</td>\n",
       "      <td>male</td>\n",
       "      <td>United States</td>\n",
       "      <td>Illinois</td>\n",
       "      <td>2.750000</td>\n",
       "      <td>Frequently Eats Lunch Out</td>\n",
       "    </tr>\n",
       "    <tr>\n",
       "      <th>23354</th>\n",
       "      <td>18-24</td>\n",
       "      <td>male</td>\n",
       "      <td>United States</td>\n",
       "      <td>California</td>\n",
       "      <td>2.500000</td>\n",
       "      <td>Frequently Eats Dinner Out</td>\n",
       "    </tr>\n",
       "    <tr>\n",
       "      <th>23355</th>\n",
       "      <td>25-34</td>\n",
       "      <td>male</td>\n",
       "      <td>United States</td>\n",
       "      <td>Illinois</td>\n",
       "      <td>2.500000</td>\n",
       "      <td>Frequently Eats Lunch Out</td>\n",
       "    </tr>\n",
       "    <tr>\n",
       "      <th>23356</th>\n",
       "      <td>45-54</td>\n",
       "      <td>male</td>\n",
       "      <td>United States</td>\n",
       "      <td>New York</td>\n",
       "      <td>2.500000</td>\n",
       "      <td>Frequently Eats Lunch Out</td>\n",
       "    </tr>\n",
       "  </tbody>\n",
       "</table>\n",
       "<p>14316 rows × 6 columns</p>\n",
       "</div>"
      ],
      "text/plain": [
       "      userAgeBracket userGender        country      region   sessions  \\\n",
       "0              25-34     female  United States  California  35.666667   \n",
       "1              35-44     female  United States  California  35.333333   \n",
       "2              35-44     female  United States  California  49.500000   \n",
       "3              35-44     female  United States  California  47.500000   \n",
       "4              35-44     female  United States  California  47.500000   \n",
       "...              ...        ...            ...         ...        ...   \n",
       "23113          25-34       male  United States    Illinois   2.750000   \n",
       "23114          55-64       male  United States    Illinois   2.750000   \n",
       "23354          18-24       male  United States  California   2.500000   \n",
       "23355          25-34       male  United States    Illinois   2.500000   \n",
       "23356          45-54       male  United States    New York   2.500000   \n",
       "\n",
       "                 brandingInterest  \n",
       "0                 News & Politics  \n",
       "1                 News & Politics  \n",
       "2           Media & Entertainment  \n",
       "3           Media & Entertainment  \n",
       "4           Media & Entertainment  \n",
       "...                           ...  \n",
       "23113  Frequently Eats Dinner Out  \n",
       "23114   Frequently Eats Lunch Out  \n",
       "23354  Frequently Eats Dinner Out  \n",
       "23355   Frequently Eats Lunch Out  \n",
       "23356   Frequently Eats Lunch Out  \n",
       "\n",
       "[14316 rows x 6 columns]"
      ]
     },
     "execution_count": 60,
     "metadata": {},
     "output_type": "execute_result"
    }
   ],
   "source": [
    "df"
   ]
  },
  {
   "cell_type": "markdown",
   "id": "3f13a71e",
   "metadata": {},
   "source": [
    "En la variable brandingInterest se puede observar que \"Media & Entertrainment\" es el interes más alto, seguido por \"Lifestyles & Hobbies\". El top 10 comprende el 47% del total de las sesiones."
   ]
  },
  {
   "cell_type": "code",
   "execution_count": 61,
   "id": "87f6474d",
   "metadata": {},
   "outputs": [
    {
     "data": {
      "image/png": "[encoded data removed]",
      "text/plain": [
       "<Figure size 1000x600 with 1 Axes>"
      ]
     },
     "metadata": {},
     "output_type": "display_data"
    }
   ],
   "source": [
    "# Agrupar y contar registros por userAgeBracket\n",
    "df_age = df.groupby('userAgeBracket')['sessions'].sum()\n",
    "\n",
    "# Crear la gráfica de columnas\n",
    "df_age.plot.bar(title='Número de registros por userAgeBracket', xlabel='User age bracket', ylabel='sessions', figsize=(10,6))\n",
    "plt.show()"
   ]
  },
  {
   "cell_type": "code",
   "execution_count": 62,
   "id": "5498a19c",
   "metadata": {},
   "outputs": [
    {
     "data": {
      "text/plain": [
       "0.289807591800391"
      ]
     },
     "execution_count": 62,
     "metadata": {},
     "output_type": "execute_result"
    }
   ],
   "source": [
    "df_age['35-44']/df_age.sum()"
   ]
  },
  {
   "cell_type": "markdown",
   "id": "f27845f0",
   "metadata": {},
   "source": [
    "Las sesiones que mayor tiene numero de sesiones es de 35 a 44 años, que comprende un total 59887 de sesiones que comprende un 28.98% de los datos "
   ]
  },
  {
   "cell_type": "code",
   "execution_count": 63,
   "id": "a250f986",
   "metadata": {},
   "outputs": [
    {
     "data": {
      "image/png": "[encoded data removed]",
      "text/plain": [
       "<Figure size 800x600 with 1 Axes>"
      ]
     },
     "metadata": {},
     "output_type": "display_data"
    }
   ],
   "source": [
    "# Agrupar y sumar sesiones por branding interest\n",
    "df_grouped = df.groupby('region')['sessions'].sum()\n",
    "df_order = df_grouped.sort_values(ascending=False).head(20)\n",
    "# Crear la gráfica de barras\n",
    "df_order.plot.bar(title='Suma de sesiones por region', xlabel='Region', ylabel='Sesiones', figsize=(8,6))\n",
    "plt.show()"
   ]
  },
  {
   "cell_type": "code",
   "execution_count": 64,
   "id": "3b721ed9",
   "metadata": {},
   "outputs": [
    {
     "data": {
      "text/plain": [
       "region\n",
       "New York      49502.0\n",
       "California    42146.0\n",
       "Texas         40695.0\n",
       "Florida       34002.0\n",
       "Illinois      26932.0\n",
       "Name: sessions, dtype: float64"
      ]
     },
     "execution_count": 64,
     "metadata": {},
     "output_type": "execute_result"
    }
   ],
   "source": [
    "df_order.head(5)"
   ]
  },
  {
   "cell_type": "code",
   "execution_count": 46,
   "id": "9cd9fc05",
   "metadata": {},
   "outputs": [
    {
     "data": {
      "text/plain": [
       "206644.0"
      ]
     },
     "execution_count": 46,
     "metadata": {},
     "output_type": "execute_result"
    }
   ],
   "source": [
    "df_order.sum()"
   ]
  },
  {
   "cell_type": "markdown",
   "id": "d5700b4b",
   "metadata": {},
   "source": [
    "Las region con numero de sesiones es de New York con 49502 sesiones de un total de 206644 sesiones en el total de registros. "
   ]
  }
 ],
 "metadata": {
  "kernelspec": {
   "display_name": "Python 3 (ipykernel)",
   "language": "python",
   "name": "python3"
  },
  "language_info": {
   "codemirror_mode": {
    "name": "ipython",
    "version": 3
   },
   "file_extension": ".py",
   "mimetype": "text/x-python",
   "name": "python",
   "nbconvert_exporter": "python",
   "pygments_lexer": "ipython3",
   "version": "3.9.16"
  }
 },
 "nbformat": 4,
 "nbformat_minor": 5
}
